{
  "nbformat": 4,
  "nbformat_minor": 0,
  "metadata": {
    "colab": {
      "name": "Second Case Study.ipynb",
      "provenance": [],
      "authorship_tag": "ABX9TyO2Xy58aMjmaIQ7iXM2MvzI",
      "include_colab_link": true
    },
    "kernelspec": {
      "name": "python3",
      "display_name": "Python 3"
    },
    "language_info": {
      "name": "python"
    }
  },
  "cells": [
    {
      "cell_type": "markdown",
      "metadata": {
        "id": "view-in-github",
        "colab_type": "text"
      },
      "source": [
        "<a href=\"https://colab.research.google.com/github/mukeshy97/Business-Strategy-and-Analytics-Case-Study-/blob/main/Second_Case_Study.ipynb\" target=\"_parent\"><img src=\"https://colab.research.google.com/assets/colab-badge.svg\" alt=\"Open In Colab\"/></a>"
      ]
    },
    {
      "cell_type": "markdown",
      "metadata": {
        "id": "07PsOoJW2oyh"
      },
      "source": [
        "# **Mukesh Yadav**\n",
        "Email: mukeshy3010@gmail.com  Phone no.- +917506633840"
      ]
    },
    {
      "cell_type": "markdown",
      "metadata": {
        "id": "oWUgi0W54D2-"
      },
      "source": [
        "<b><h1>Second Case Study:<b><h1> \n",
        "\n",
        "Answers: \n",
        "First of all let's understand the above facts related to any particular organization.\n",
        "1.\tFor membership in that organization, the fee is 20 rupees.\n",
        "2.\t10 rupees for extra features in the card.   \n",
        "3.\tWith a loss rate of 3% per card. \n",
        "4.\tInterest rate for each card is 15%. \n",
        "5.\tAverage card balance is 1000 rupees.\n",
        "6.\tThe particular Organization should pay 6.5% of funds every month to the bank where it gets all the money. (amount of fund can change every month)\n",
        "7.\tA statement is issued on the 1st of every month.\n",
        "8.\tCredit-free period = 15 days from statement issue date ( there is no interest charge during these 15 days)\n",
        "\n",
        "<h4>For further study we have to divide the customers into four groups.<h4> \n",
        "\n",
        "* **Group 1:** who pays the bill within Credit-free periods.(there is\n",
        " no interest chargeduring these 15 days)\n",
        "\n",
        "* **Group 2:** who pays the bill in 30days after the last due date.\n",
        "* **Group 3:** who pays the bill in 45days after the last due date.\n",
        "* **Group 4:** who pays the bill in 60days after the last due date.\n",
        "\n",
        "There are 1000 customers in our case study.\n"
      ]
    },
    {
      "cell_type": "markdown",
      "metadata": {
        "id": "NaiJQ6sn7mZY"
      },
      "source": [
        "<h4>Q1: How much profit % is generated in 1 year?<h4>\n",
        "\n",
        "**Scenario 1 :**"
      ]
    },
    {
      "cell_type": "code",
      "metadata": {
        "colab": {
          "base_uri": "https://localhost:8080/"
        },
        "id": "5DHr96ZjBIN0",
        "outputId": "bc9d89f8-da54-4ea5-b512-dc41692a6e4f"
      },
      "source": [
        "intrest_rate = ((15-15)*1000*12*0.15*1000*(1/365))\n",
        "print(intrest_rate)"
      ],
      "execution_count": null,
      "outputs": [
        {
          "output_type": "stream",
          "name": "stdout",
          "text": [
            "0.0\n"
          ]
        }
      ]
    },
    {
      "cell_type": "code",
      "metadata": {
        "colab": {
          "base_uri": "https://localhost:8080/"
        },
        "id": "q9_x44zh8unr",
        "outputId": "030e534f-6a94-42ef-eda8-0271025b985e"
      },
      "source": [
        "intrest_rate1 = ((30-15)*1000*12*0.15*1000*(1/365))\n",
        "print(intrest_rate1) "
      ],
      "execution_count": null,
      "outputs": [
        {
          "output_type": "stream",
          "name": "stdout",
          "text": [
            "73972.60273972603\n"
          ]
        }
      ]
    },
    {
      "cell_type": "code",
      "metadata": {
        "colab": {
          "base_uri": "https://localhost:8080/"
        },
        "id": "f9Detlrg_qJL",
        "outputId": "09ec0703-7870-46c2-d190-84caeb83aada"
      },
      "source": [
        "intrest_rate2 = ((45-15)*1000*12*0.15*1000*(1/365))\n",
        "print(intrest_rate2)"
      ],
      "execution_count": null,
      "outputs": [
        {
          "output_type": "stream",
          "name": "stdout",
          "text": [
            "147945.20547945207\n"
          ]
        }
      ]
    },
    {
      "cell_type": "code",
      "metadata": {
        "colab": {
          "base_uri": "https://localhost:8080/"
        },
        "id": "WNbrhUG5BbC9",
        "outputId": "13163120-4c13-4097-e5bd-72483da8ae27"
      },
      "source": [
        "intrest_rate3 = ((60-15)*1000*12*0.15*1000*(1/365))\n",
        "print(intrest_rate3)"
      ],
      "execution_count": null,
      "outputs": [
        {
          "output_type": "stream",
          "name": "stdout",
          "text": [
            "221917.80821917808\n"
          ]
        }
      ]
    },
    {
      "cell_type": "code",
      "metadata": {
        "colab": {
          "base_uri": "https://localhost:8080/"
        },
        "id": "Js0huY8kCM28",
        "outputId": "26939bc5-70fd-496e-dabb-4278c3b07eda"
      },
      "source": [
        "Total_Profit = intrest_rate + intrest_rate1 + intrest_rate2 + intrest_rate3\n",
        "print(Total_Profit)"
      ],
      "execution_count": null,
      "outputs": [
        {
          "output_type": "stream",
          "name": "stdout",
          "text": [
            "443835.6164383562\n"
          ]
        }
      ]
    },
    {
      "cell_type": "markdown",
      "metadata": {
        "id": "k52VgzZlDFyU"
      },
      "source": [
        "<h4>So if all the member does full bill payment with no defaulter then the total Profit will be 443835.6164<h4>\n",
        "\n",
        "\n"
      ]
    },
    {
      "cell_type": "markdown",
      "metadata": {
        "id": "p8ch1GlUFPtp"
      },
      "source": [
        "**Scenario 2:**\n",
        "\n",
        "<h4>In this scenario the interest rate is compounded quarterly so interest rate will increase only after 3 months and it will be calculated on a monthly basis. And the membership grows 5% every month and the card balance of each member also increases by 5%.<h4>\n",
        "\n",
        "Month 1 has 1000 customers,\n",
        "\n",
        "Month 2 has 1050 customers. i.e. 0.05*1000+1000= 1050\n",
        "\n",
        "Month 3 has 1102 customers. i.e. 0.05*1050+1000= 1102\n",
        "\n",
        "The balance for the first month will be 1000 Rs\n",
        "\n",
        "2nd month - it will be an increase in 5 % every month\n",
        "0.05 * 1000 + 1000 = 1050 Rs\n",
        "\n",
        "3rd month 0.05 * 1050 +1050 = 1102.5 Rs\n"
      ]
    },
    {
      "cell_type": "code",
      "metadata": {
        "id": "C_1bpiEHHEZb",
        "colab": {
          "base_uri": "https://localhost:8080/"
        },
        "outputId": "01ca4dfc-04c1-46f9-e3c5-11bb0dc8909c"
      },
      "source": [
        "month1 = 0\n",
        "month2 = (0.05*1000+1000)\n",
        "month3 = (0.05*1050+1050)\n",
        "print(month1)\n",
        "print(month2)\n",
        "print(month3)"
      ],
      "execution_count": null,
      "outputs": [
        {
          "output_type": "stream",
          "name": "stdout",
          "text": [
            "0\n",
            "1050.0\n",
            "1102.5\n"
          ]
        }
      ]
    },
    {
      "cell_type": "code",
      "metadata": {
        "colab": {
          "base_uri": "https://localhost:8080/"
        },
        "id": "62eS42uFJ_Zg",
        "outputId": "932f50e2-d356-4c2a-aeb7-29eccc5f3355"
      },
      "source": [
        "#Group 1\n",
        "interest1 = 0\n",
        "print(interest1)"
      ],
      "execution_count": null,
      "outputs": [
        {
          "output_type": "stream",
          "name": "stdout",
          "text": [
            "0\n"
          ]
        }
      ]
    },
    {
      "cell_type": "code",
      "metadata": {
        "colab": {
          "base_uri": "https://localhost:8080/"
        },
        "id": "frC6PhBvLWQn",
        "outputId": "6f5517c9-bdc8-4ac0-f836-3736a9ffdc54"
      },
      "source": [
        "#Group 2\n",
        "#month 1\n",
        "interest2 = ((30-15)* 1000 * 0.15) /31\n",
        "print(interest2)\n",
        "Total_interest1 = 1000 * interest2\n",
        "print(Total_interest1)\n",
        "\n",
        "#month 2\n",
        "interest3 = ((30-15)* 1000 * 0.15) /28\n",
        "print(interest3)\n",
        "Total_interest2 = 50 * interest3  #50 new customers added at 5% on total 250 customers.\n",
        "print(Total_interest2)\n",
        "\n",
        "#month 3\n",
        "interest4 = ((30-15)* 1000 * 0.15) /31\n",
        "print(interest4)\n",
        "Total_interest3 = 102 * interest4    #102 new customers added at 5% on total 250 customers.\n",
        "print(Total_interest3)"
      ],
      "execution_count": null,
      "outputs": [
        {
          "output_type": "stream",
          "name": "stdout",
          "text": [
            "72.58064516129032\n",
            "72580.64516129032\n",
            "80.35714285714286\n",
            "4017.857142857143\n",
            "72.58064516129032\n",
            "7403.225806451613\n"
          ]
        }
      ]
    },
    {
      "cell_type": "code",
      "metadata": {
        "colab": {
          "base_uri": "https://localhost:8080/"
        },
        "id": "RvlyftnDXi5C",
        "outputId": "6f3e38d8-05cc-40ba-ac1f-3f61b81487b4"
      },
      "source": [
        "#Group 3\n",
        "#month 1\n",
        "interest5 = ((45-15)* 1000 * 0.15) /31\n",
        "print(interest5)\n",
        "Total_interest4 = 1000 * interest5\n",
        "print(Total_interest4)\n",
        "\n",
        "#month 2\n",
        "interest6 = ((45-15)* 1000 * 0.15) /28\n",
        "print(interest6)\n",
        "Total_interest5 = 50 * interest6 #50 new customers added \n",
        "print(Total_interest5)\n",
        "\n",
        "#month 3\n",
        "interest7 = ((45-15)* 1000 * 0.15) /31\n",
        "print(interest7)\n",
        "Total_interest6 = 102 * interest7    #102 new customers added\n",
        "print(Total_interest6)"
      ],
      "execution_count": null,
      "outputs": [
        {
          "output_type": "stream",
          "name": "stdout",
          "text": [
            "145.16129032258064\n",
            "145161.29032258064\n",
            "160.71428571428572\n",
            "8035.714285714286\n",
            "145.16129032258064\n",
            "14806.451612903225\n"
          ]
        }
      ]
    },
    {
      "cell_type": "code",
      "metadata": {
        "colab": {
          "base_uri": "https://localhost:8080/"
        },
        "id": "GHoIrYHmYOPX",
        "outputId": "45ad3b91-4c74-459f-f006-d973b84ac36c"
      },
      "source": [
        "#Group 4\n",
        "#month 1\n",
        "interest8 = ((60-15)* 1000 * 0.15) /31\n",
        "print(interest8)\n",
        "Total_interest7 = 1000 * interest8\n",
        "print(Total_interest7)\n",
        "\n",
        "#month 2\n",
        "interest9 = ((60-15)* 1000 * 0.15) /28\n",
        "print(interest9)\n",
        "Total_interest8 = 50 * interest9  #50 new customers added \n",
        "print(Total_interest8)\n",
        "\n",
        "#month 3\n",
        "interest10 = ((60-15)* 1000 * 0.15) /31\n",
        "print(interest10)\n",
        "Total_interest9 = 102 * interest10    #102 new customers added\n",
        "print(Total_interest9)"
      ],
      "execution_count": null,
      "outputs": [
        {
          "output_type": "stream",
          "name": "stdout",
          "text": [
            "217.74193548387098\n",
            "217741.93548387097\n",
            "241.07142857142858\n",
            "12053.57142857143\n",
            "217.74193548387098\n",
            "22209.67741935484\n"
          ]
        }
      ]
    },
    {
      "cell_type": "code",
      "metadata": {
        "colab": {
          "base_uri": "https://localhost:8080/"
        },
        "id": "LIgywhYbeTlv",
        "outputId": "8f606065-0b92-4e70-dd60-d00a38ad1747"
      },
      "source": [
        "Total_interest_diffrent_group = Total_interest1+Total_interest2+Total_interest3+Total_interest4+Total_interest5+Total_interest6+Total_interest7+Total_interest8+Total_interest9\n",
        "print(Total_interest_diffrent_group) \n",
        "Total_fund = 3317455\n",
        "percentage_total_fund = 0.065*Total_fund\n",
        "print(percentage_total_fund)\n",
        "Total_profit = Total_interest_diffrent_group - percentage_total_fund\n",
        "print(Total_profit)"
      ],
      "execution_count": null,
      "outputs": [
        {
          "output_type": "stream",
          "name": "stdout",
          "text": [
            "504010.3686635945\n",
            "215634.575\n",
            "288375.79366359446\n"
          ]
        }
      ]
    },
    {
      "cell_type": "markdown",
      "metadata": {
        "id": "fyaRt41UkHzS"
      },
      "source": [
        "**Conclusion:** The total profit for the starting three month will be 288375.79 approx."
      ]
    },
    {
      "cell_type": "markdown",
      "metadata": {
        "id": "bCom1R-ZlUcc"
      },
      "source": [
        "<h>Q2: The 3% loss rate can either mean either 3% of the outstanding balance defaults or 3% of the borrowers default on their entire balance. If the average \n",
        "balance is increased to $2000, what happens to the loss?<h>\n",
        "\n",
        "**Answers :** In the above question we consider group 4 as borrowers default.\n"
      ]
    },
    {
      "cell_type": "code",
      "metadata": {
        "colab": {
          "base_uri": "https://localhost:8080/"
        },
        "id": "l-gZzl0En1jT",
        "outputId": "03dc1e3d-1a10-4c3c-c124-29cee6488cf4"
      },
      "source": [
        "Total_borrowers_default_1 = 1000*1000+intrest_rate3    #1000 for card balance & 1000 for customers choice\n",
        "print(Total_borrowers_default_1)\n",
        "Loss_1 = 1221917.80*(3/100)\n",
        "print(Loss_1)\n",
        "Total_borrowers_default_2 = 2000*1000+(intrest_rate3*2)    #2000 for card balance & 1000 for customers choice\n",
        "print(Total_borrowers_default_2)\n",
        "Loss_2 = 2443835.61*(3/100)\n",
        "print(Loss_2)\n",
        "Loss_2/Loss_1"
      ],
      "execution_count": null,
      "outputs": [
        {
          "output_type": "stream",
          "name": "stdout",
          "text": [
            "1221917.808219178\n",
            "36657.534\n",
            "2443835.616438356\n",
            "73315.0683\n"
          ]
        },
        {
          "output_type": "execute_result",
          "data": {
            "text/plain": [
              "2.0000000081838567"
            ]
          },
          "metadata": {},
          "execution_count": 84
        }
      ]
    },
    {
      "cell_type": "markdown",
      "metadata": {
        "id": "BjgYGwb-qhsX"
      },
      "source": [
        "<h>If the average balance is increased to $2000, then the loss will increase to 2<h>"
      ]
    },
    {
      "cell_type": "markdown",
      "metadata": {
        "id": "3BlOASQxrVLr"
      },
      "source": [
        "<h>Q3: Is a borrower with a low balance more or less likely to default then a borrower with a high balance? Why ? explain clearly<h>\n",
        "\n",
        "**Answer:** Borrowers with low balance are less likely to default compared\n",
        "to borrowers with high balance because borrowers with high\n",
        "balance must have high interest amount even though interest rate\n",
        "is same. Interest has direct co-relation with balance and\n",
        "default chances.\n"
      ]
    },
    {
      "cell_type": "markdown",
      "metadata": {
        "id": "0W2skItZswCB"
      },
      "source": [
        "<h>Q4: The group company has now become unhappy with the credit card provider. it wants to start its own credit card. But for that, it will need to purchase the customers from the current credit card company. If the affilated group offered Rs 20 per account to purchase all the customers from the credit card company, what would there profit be? (assume that we are only talking about 1 year)<h> \n",
        "\n",
        "**Answer:** For credit card company,There are 10000 members in the beginning but because of borrower default group 4 has been eliminated so remaining members are 750.\n",
        "\n"
      ]
    },
    {
      "cell_type": "code",
      "metadata": {
        "colab": {
          "base_uri": "https://localhost:8080/"
        },
        "id": "nlsvGalWub4Y",
        "outputId": "940bd0bf-5fcf-40ea-bdad-ebe8e4f2f7f0"
      },
      "source": [
        "Operation_cost = 750*25\n",
        "Money_paid = 750*20\n",
        "Total_Profit = Operation_cost - Money_paid\n",
        "print(Total_Profit)"
      ],
      "execution_count": null,
      "outputs": [
        {
          "output_type": "stream",
          "name": "stdout",
          "text": [
            "3750\n"
          ]
        }
      ]
    },
    {
      "cell_type": "markdown",
      "metadata": {
        "id": "DOHJeNouvICi"
      },
      "source": [
        "<h>So the operation cost would be =  **750*25=Rs 18750** (this amount\n",
        "will be used to buy credit card customer).\n",
        "\n",
        "Money paid to credit card company=  **750*20=Rs 15000**\n",
        "\n",
        "**Total profit= received amount – given amount Profit = 18750-15000= Rs 3750**\n",
        "\n",
        "This profit would be only for starting organization’s own credit\n",
        "card<h>"
      ]
    },
    {
      "cell_type": "markdown",
      "metadata": {
        "id": "w3bddU9ivYrY"
      },
      "source": [
        "<h>Q5: What numbers can the financial institution change to convince the affiliated group not to want to purchase, while still not going into a loss? Give a range of what the new numbers are (min and max)<h>\n",
        "\n",
        "**Answer:** There is 6.5% fund goes to bank then the total fund as follows.\n"
      ]
    },
    {
      "cell_type": "code",
      "metadata": {
        "colab": {
          "base_uri": "https://localhost:8080/"
        },
        "id": "hp8buIVxwwN5",
        "outputId": "2b554c73-4360-4d60-a5cd-5a810b13cbb6"
      },
      "source": [
        "Total_fund = 1000*1000    #for 1000 customer \n",
        "Fees_to_bank = Total_fund*6.5/100\n",
        "print(Fees_to_bank)\n"
      ],
      "execution_count": null,
      "outputs": [
        {
          "output_type": "stream",
          "name": "stdout",
          "text": [
            "65000.0\n"
          ]
        }
      ]
    },
    {
      "cell_type": "markdown",
      "metadata": {
        "id": "E_YldyYPyBCo"
      },
      "source": [
        "<h>So for profit of credit card company we can say that **Total intrest > fees to bank**<h>\n",
        "Total intrest =  **idcP**\n",
        "\n",
        "P= principal amount ,d= no. of days , c=no. of customer\n",
        "We can’t control d,c & P but we can control i\n",
        "So,  **i>65000/(1000000*d)** i.e. **i>(0.065/d)**\n",
        "\n",
        "so for **d=30** i need to be minimum **(0.065/30)**\n",
        "for i to be maxm , d need to be minimum and vice versa"
      ]
    },
    {
      "cell_type": "markdown",
      "metadata": {
        "id": "QxUbCmlKzQZU"
      },
      "source": [
        "<h>Q6: What is the extra cost(if any) company will have to incur if the customer delays the payment of the credit card bill after the due date?<h>\n",
        "\n",
        "<h>**Answer:** Compnay will have profit if customer delays the\n",
        "payment after the due date because of the intrest.<h>"
      ]
    },
    {
      "cell_type": "markdown",
      "metadata": {
        "id": "YxCCJjmwz1jc"
      },
      "source": [
        "<h>Q7: Is it beneficial for the company if the customer pays the credit card bill after the due date? (express your views as a business strategy analyst with a short example)<h>\n",
        "\n",
        "<h>**Answer:** Of course It is beneficial for the company if customer\n",
        "pays the bill after the due date but the rate of profit can\n",
        "differ. For example let a customer pays the bill 5 days after\n",
        "the due date then the company won’t have any profit but if the\n",
        "customer pays after 15 days (credit free period) then every\n",
        "extra date has interest on principle amount. Payment can also be\n",
        "done in partial so we can see more variation in profit.<h>"
      ]
    }
  ]
}