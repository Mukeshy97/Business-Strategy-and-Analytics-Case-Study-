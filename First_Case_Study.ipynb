{
  "nbformat": 4,
  "nbformat_minor": 0,
  "metadata": {
    "colab": {
      "name": "First Case Study.ipynb",
      "provenance": [],
      "authorship_tag": "ABX9TyNqyReIyM05hLe/nimKjeKM",
      "include_colab_link": true
    },
    "kernelspec": {
      "name": "python3",
      "display_name": "Python 3"
    },
    "language_info": {
      "name": "python"
    }
  },
  "cells": [
    {
      "cell_type": "markdown",
      "metadata": {
        "id": "view-in-github",
        "colab_type": "text"
      },
      "source": [
        "<a href=\"https://colab.research.google.com/github/mukeshy97/Business-Strategy-and-Analytics-Case-Study-/blob/main/First_Case_Study.ipynb\" target=\"_parent\"><img src=\"https://colab.research.google.com/assets/colab-badge.svg\" alt=\"Open In Colab\"/></a>"
      ]
    },
    {
      "cell_type": "markdown",
      "metadata": {
        "id": "1XqKCfBBUfwj"
      },
      "source": [
        "# **Mukesh Yadav**\n",
        "Email: mukeshy3010@gmail.com  Phone no.- +917506633840\n"
      ]
    },
    {
      "cell_type": "markdown",
      "metadata": {
        "id": "sV_crL6xVCiW"
      },
      "source": [
        "#First Case Study:\n",
        "\n",
        "**Questions**: \n",
        "1.\tTo get these questions, do industry research (or read reports) for the same. Please link/cite the reports you have read to create these questions.\n",
        "2.\tList down ALL the questions that you need answers for to successfully craft a strategy to increase profitability of this segment. \n"
      ]
    },
    {
      "cell_type": "markdown",
      "metadata": {
        "id": "7Q8ObQQbVVvC"
      },
      "source": [
        "First of all think of the questions which is mentioned in above case study into two way\n",
        "\n",
        "1.)\t You are asking these questions to customers.\n",
        "\n",
        "2.)\t You are asking this question to Google (for self-research) or see Annual report of credit card providers in India or overseas wise like HDFC, SBI etc.\n"
      ]
    },
    {
      "cell_type": "markdown",
      "metadata": {
        "id": "ELozc_BpVi6w"
      },
      "source": [
        "**Answers:** First let's start with the following points for proposal.\n",
        "1.\tFirst we have to list out the defaulters and their percentages and then reasons as to why and how they are contributing to our losses.\n",
        "2.\tThe factors can be internal (for others personal loans like medical emergencies, job loss etc.), external or global (like pandemic or economic crisis.) But you have to also remember the pandemic and economic crisis will also be an industry wise phenomenon.\n",
        "For example:  **When Keki Mistry (Vice chairman and CEO of HDFC) was asked about the customer default credit card he stated See, what you must understand is that in the last one year or little more than one year it is not possible for us to physically meet any customer. So, all collection effort is done on the phone or the customer would have given us a mandate and like based on that mandate we would debit his account. If for whatever reason that mandate bounces, then we normally would physically meet the customer, which we cannot do now. The second is as I mentioned earlier, courts have stopped any secured lender from taking action against the property. So, you can't go to SARFAESI action. So, that creates a little bit of I would say complacency on the part of a customer. I would say these are the two attributes. \n",
        "Link for the research:**pdf https://www.hdfc.com/sites/default/files/2021-08/transcript-hdfc-02aug2021.pdf\n",
        "3.\tFor Internal Factors, we can provide them some more time for the defaulters to make payments. For external factors, we can give some relaxation on the interest accumulating on the unpaid credits. For global factors, most probability is that it is an industry wise phenomenon that means a pandemic or economic crisis takes down every organization.\n"
      ]
    },
    {
      "cell_type": "markdown",
      "metadata": {
        "id": "RCbIt1TmV1_k"
      },
      "source": [
        "Sometimes, we should allow them more time to help them recover and this will also help us retain them. We can also give them new loans on lower interests if they can come up with new business ideas. In the present pandemic crisis we can also understand the SME (shopkeeper) like medical, food marketing and medical import and export organizations are doing well so we can try to sell our new credit cards to them for recovering our 100 basis points.  \n"
      ]
    },
    {
      "cell_type": "markdown",
      "metadata": {
        "id": "k3jdHGkCV8xI"
      },
      "source": [
        "Let's consider the following questions that we should ask the customers. \n",
        "1.\tWho are the defaulters and what are their percentage in total?\n",
        "2.\tWhat do the defaulters do in their profession? \n",
        "3.\tReason for default.\n",
        "4.\tCan the defaulter pay if allowed some more time?\n",
        "5.\tAre the defaulters genuine? and how many times have they defaulted in the\n",
        "past and how many times have they paid within these situations?\n",
        "6.\t What is the credibility of the person who referred them to our company?\n",
        "7.\t Did the background check reveal any red flags at the time which were        considered non-relevant?\n",
        "8.\t If registered through a sales personnel, were they under pressure to complete their target?\n"
      ]
    }
  ]
}